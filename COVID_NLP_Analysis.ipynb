{
  "nbformat": 4,
  "nbformat_minor": 0,
  "metadata": {
    "colab": {
      "name": "COVID NLP Analysis.ipynb",
      "provenance": [],
      "collapsed_sections": [],
      "authorship_tag": "ABX9TyNTmOcmXJruNeF+2ueEME6y",
      "include_colab_link": true
    },
    "kernelspec": {
      "name": "python3",
      "display_name": "Python 3"
    }
  },
  "cells": [
    {
      "cell_type": "markdown",
      "metadata": {
        "id": "view-in-github",
        "colab_type": "text"
      },
      "source": [
        "<a href=\"https://colab.research.google.com/github/UnitForDataScience/COVID_NLP/blob/master/COVID_NLP_Analysis.ipynb\" target=\"_parent\"><img src=\"https://colab.research.google.com/assets/colab-badge.svg\" alt=\"Open In Colab\"/></a>"
      ]
    },
    {
      "cell_type": "code",
      "metadata": {
        "id": "uNRONKXpvNnA",
        "colab_type": "code",
        "colab": {}
      },
      "source": [
        "# Necessary package imports\n",
        "\n",
        "import tarfile\n",
        "import numpy as np\n",
        "import pandas as pd\n",
        "import os\n",
        "import json\n",
        "import glob\n",
        "import sys\n"
      ],
      "execution_count": 0,
      "outputs": []
    },
    {
      "cell_type": "code",
      "metadata": {
        "colab_type": "code",
        "id": "RXZT2UsyIVe_",
        "outputId": "eb790920-90c3-4ad6-8e79-2b259acd3f03",
        "colab": {
          "base_uri": "https://localhost:8080/",
          "height": 964
        }
      },
      "source": [
        "# Downloading datasets into the runtime encironment\n",
        "!wget --no-check-certificate \\\n",
        "    https://ai2-semanticscholar-cord-19.s3-us-west-2.amazonaws.com/2020-03-13/comm_use_subset.tar.gz\n",
        "  \n",
        "!wget --no-check-certificate \\\n",
        "    https://ai2-semanticscholar-cord-19.s3-us-west-2.amazonaws.com/2020-03-13/noncomm_use_subset.tar.gz\n",
        "\n",
        "!wget --no-check-certificate \\\n",
        "    https://ai2-semanticscholar-cord-19.s3-us-west-2.amazonaws.com/2020-03-13/pmc_custom_license.tar.gz\n",
        "\n",
        "!wget --no-check-certificate \\\n",
        "    https://ai2-semanticscholar-cord-19.s3-us-west-2.amazonaws.com/2020-03-13/biorxiv_medrxiv.tar.gz\n",
        "\n",
        "!wget --no-check-certificate \\\n",
        "    https://ai2-semanticscholar-cord-19.s3-us-west-2.amazonaws.com/2020-03-13/all_sources_metadata_2020-03-13.csv"
      ],
      "execution_count": 2,
      "outputs": [
        {
          "output_type": "stream",
          "text": [
            "--2020-03-19 21:27:39--  https://ai2-semanticscholar-cord-19.s3-us-west-2.amazonaws.com/2020-03-13/comm_use_subset.tar.gz\n",
            "Resolving ai2-semanticscholar-cord-19.s3-us-west-2.amazonaws.com (ai2-semanticscholar-cord-19.s3-us-west-2.amazonaws.com)... 52.218.224.33\n",
            "Connecting to ai2-semanticscholar-cord-19.s3-us-west-2.amazonaws.com (ai2-semanticscholar-cord-19.s3-us-west-2.amazonaws.com)|52.218.224.33|:443... connected.\n",
            "HTTP request sent, awaiting response... 200 OK\n",
            "Length: 195327013 (186M) [application/x-tar]\n",
            "Saving to: ‘comm_use_subset.tar.gz’\n",
            "\n",
            "comm_use_subset.tar 100%[===================>] 186.28M  56.2MB/s    in 3.7s    \n",
            "\n",
            "2020-03-19 21:27:43 (50.9 MB/s) - ‘comm_use_subset.tar.gz’ saved [195327013/195327013]\n",
            "\n",
            "--2020-03-19 21:27:43--  https://ai2-semanticscholar-cord-19.s3-us-west-2.amazonaws.com/2020-03-13/noncomm_use_subset.tar.gz\n",
            "Resolving ai2-semanticscholar-cord-19.s3-us-west-2.amazonaws.com (ai2-semanticscholar-cord-19.s3-us-west-2.amazonaws.com)... 52.218.230.1\n",
            "Connecting to ai2-semanticscholar-cord-19.s3-us-west-2.amazonaws.com (ai2-semanticscholar-cord-19.s3-us-west-2.amazonaws.com)|52.218.230.1|:443... connected.\n",
            "HTTP request sent, awaiting response... 200 OK\n",
            "Length: 37412158 (36M) [application/x-tar]\n",
            "Saving to: ‘noncomm_use_subset.tar.gz’\n",
            "\n",
            "noncomm_use_subset. 100%[===================>]  35.68M  36.3MB/s    in 1.0s    \n",
            "\n",
            "2020-03-19 21:27:44 (36.3 MB/s) - ‘noncomm_use_subset.tar.gz’ saved [37412158/37412158]\n",
            "\n",
            "--2020-03-19 21:27:45--  https://ai2-semanticscholar-cord-19.s3-us-west-2.amazonaws.com/2020-03-13/pmc_custom_license.tar.gz\n",
            "Resolving ai2-semanticscholar-cord-19.s3-us-west-2.amazonaws.com (ai2-semanticscholar-cord-19.s3-us-west-2.amazonaws.com)... 52.218.230.1\n",
            "Connecting to ai2-semanticscholar-cord-19.s3-us-west-2.amazonaws.com (ai2-semanticscholar-cord-19.s3-us-west-2.amazonaws.com)|52.218.230.1|:443... connected.\n",
            "HTTP request sent, awaiting response... 200 OK\n",
            "Length: 19839333 (19M) [application/x-tar]\n",
            "Saving to: ‘pmc_custom_license.tar.gz’\n",
            "\n",
            "pmc_custom_license. 100%[===================>]  18.92M  30.2MB/s    in 0.6s    \n",
            "\n",
            "2020-03-19 21:27:46 (30.2 MB/s) - ‘pmc_custom_license.tar.gz’ saved [19839333/19839333]\n",
            "\n",
            "--2020-03-19 21:27:46--  https://ai2-semanticscholar-cord-19.s3-us-west-2.amazonaws.com/2020-03-13/biorxiv_medrxiv.tar.gz\n",
            "Resolving ai2-semanticscholar-cord-19.s3-us-west-2.amazonaws.com (ai2-semanticscholar-cord-19.s3-us-west-2.amazonaws.com)... 52.218.230.1\n",
            "Connecting to ai2-semanticscholar-cord-19.s3-us-west-2.amazonaws.com (ai2-semanticscholar-cord-19.s3-us-west-2.amazonaws.com)|52.218.230.1|:443... connected.\n",
            "HTTP request sent, awaiting response... 200 OK\n",
            "Length: 13179161 (13M) [application/x-tar]\n",
            "Saving to: ‘biorxiv_medrxiv.tar.gz’\n",
            "\n",
            "biorxiv_medrxiv.tar 100%[===================>]  12.57M  20.2MB/s    in 0.6s    \n",
            "\n",
            "2020-03-19 21:27:47 (20.2 MB/s) - ‘biorxiv_medrxiv.tar.gz’ saved [13179161/13179161]\n",
            "\n",
            "--2020-03-19 21:27:47--  https://ai2-semanticscholar-cord-19.s3-us-west-2.amazonaws.com/2020-03-13/all_sources_metadata_2020-03-13.csv\n",
            "Resolving ai2-semanticscholar-cord-19.s3-us-west-2.amazonaws.com (ai2-semanticscholar-cord-19.s3-us-west-2.amazonaws.com)... 52.218.229.9\n",
            "Connecting to ai2-semanticscholar-cord-19.s3-us-west-2.amazonaws.com (ai2-semanticscholar-cord-19.s3-us-west-2.amazonaws.com)|52.218.229.9|:443... connected.\n",
            "HTTP request sent, awaiting response... 200 OK\n",
            "Length: 49839979 (48M) [text/csv]\n",
            "Saving to: ‘all_sources_metadata_2020-03-13.csv’\n",
            "\n",
            "all_sources_metadat 100%[===================>]  47.53M  39.2MB/s    in 1.2s    \n",
            "\n",
            "2020-03-19 21:27:49 (39.2 MB/s) - ‘all_sources_metadata_2020-03-13.csv’ saved [49839979/49839979]\n",
            "\n"
          ],
          "name": "stdout"
        }
      ]
    },
    {
      "cell_type": "code",
      "metadata": {
        "id": "pXUPrL3Sv0_r",
        "colab_type": "code",
        "colab": {
          "base_uri": "https://localhost:8080/",
          "height": 86
        },
        "outputId": "c5a5631f-fac3-483d-d7f0-c9c26e729f2d"
      },
      "source": [
        "# Extracting files into local directory\n",
        "tar_names = ['comm_use_subset.tar.gz','noncomm_use_subset.tar.gz','pmc_custom_license.tar.gz','biorxiv_medrxiv.tar.gz']\n",
        "\n",
        "for nam in tar_names:\n",
        "  tar_file = tarfile.open(nam)\n",
        "  tar_file.extractall()\n",
        "  tar_file.close()\n",
        "  print('File ' + nam + ' extracted successfully')"
      ],
      "execution_count": 6,
      "outputs": [
        {
          "output_type": "stream",
          "text": [
            "File comm_use_subset.tar.gz extracted successfully\n",
            "File noncomm_use_subset.tar.gz extracted successfully\n",
            "File pmc_custom_license.tar.gz extracted successfully\n",
            "File biorxiv_medrxiv.tar.gz extracted successfully\n"
          ],
          "name": "stdout"
        }
      ]
    },
    {
      "cell_type": "code",
      "metadata": {
        "id": "A57GaVIvth_c",
        "colab_type": "code",
        "colab": {}
      },
      "source": [
        "sys.path.insert(0, \"../\")\n",
        "\n",
        "root_path = ''\n",
        "\n",
        "corona_features = {\"doc_id\": [None], \"source\": [None], \"title\": [None],\n",
        "                  \"abstract\": [None], \"text_body\": [None]}\n",
        "corona_df = pd.DataFrame.from_dict(corona_features)\n",
        "\n",
        "json_filenames = glob.glob(f'{root_path}/**/*.json', recursive=True)"
      ],
      "execution_count": 0,
      "outputs": []
    }
  ]
}